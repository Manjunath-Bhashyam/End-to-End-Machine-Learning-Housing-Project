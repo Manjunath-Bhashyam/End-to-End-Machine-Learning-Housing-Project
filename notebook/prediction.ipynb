{
 "cells": [
  {
   "cell_type": "code",
   "execution_count": 1,
   "metadata": {},
   "outputs": [],
   "source": [
    "from housing.entity import housing_predictor"
   ]
  },
  {
   "cell_type": "code",
   "execution_count": 5,
   "metadata": {},
   "outputs": [],
   "source": [
    "housing_data=housing_predictor.HousingData(-118.39,34.12,29.0,6447.0,1012.0,2184.0,960.0,8.2816,'<1H OCEAN')"
   ]
  },
  {
   "cell_type": "code",
   "execution_count": 6,
   "metadata": {},
   "outputs": [
    {
     "data": {
      "text/plain": [
       "{'longitude': [-118.39],\n",
       " 'latitude': [34.12],\n",
       " 'housing_median_age': [29.0],\n",
       " 'total_rooms': [6447.0],\n",
       " 'total_bedrooms': [1012.0],\n",
       " 'population': [2184.0],\n",
       " 'households': [960.0],\n",
       " 'median_income': [8.2816],\n",
       " 'ocean_proximity': ['<1H OCEAN']}"
      ]
     },
     "execution_count": 6,
     "metadata": {},
     "output_type": "execute_result"
    }
   ],
   "source": [
    "housing_data.get_housing_data_as_dict()"
   ]
  },
  {
   "cell_type": "code",
   "execution_count": 8,
   "metadata": {},
   "outputs": [],
   "source": [
    "df=housing_data.get_housing_input_data_frame()"
   ]
  },
  {
   "cell_type": "code",
   "execution_count": 9,
   "metadata": {},
   "outputs": [],
   "source": [
    "from housing.entity.housing_predictor import HousingPredictor"
   ]
  },
  {
   "cell_type": "code",
   "execution_count": 12,
   "metadata": {},
   "outputs": [],
   "source": [
    "model_path=\"/home/avnish/iNeuron_Private_Intelligence_Limited/MachineLearningProject/machine_learning_project/saved_models\"\n",
    "housing_predictor= HousingPredictor(model_dir=model_path)"
   ]
  },
  {
   "cell_type": "code",
   "execution_count": 13,
   "metadata": {},
   "outputs": [
    {
     "data": {
      "text/plain": [
       "'/home/avnish/iNeuron_Private_Intelligence_Limited/MachineLearningProject/machine_learning_project/saved_models'"
      ]
     },
     "execution_count": 13,
     "metadata": {},
     "output_type": "execute_result"
    }
   ],
   "source": [
    "housing_predictor.model_dir"
   ]
  },
  {
   "cell_type": "code",
   "execution_count": 14,
   "metadata": {},
   "outputs": [
    {
     "data": {
      "text/plain": [
       "'/home/avnish/iNeuron_Private_Intelligence_Limited/MachineLearningProject/machine_learning_project/saved_models/20220706202006/model.pkl'"
      ]
     },
     "execution_count": 14,
     "metadata": {},
     "output_type": "execute_result"
    }
   ],
   "source": [
    "housing_predictor.get_latest_model_path()"
   ]
  },
  {
   "cell_type": "code",
   "execution_count": 15,
   "metadata": {},
   "outputs": [
    {
     "data": {
      "text/plain": [
       "424328.0048828125"
      ]
     },
     "execution_count": 15,
     "metadata": {},
     "output_type": "execute_result"
    }
   ],
   "source": [
    "housing_predictor.predict(df)"
   ]
  },
  {
   "cell_type": "code",
   "execution_count": null,
   "metadata": {},
   "outputs": [],
   "source": []
  }
 ],
 "metadata": {
  "kernelspec": {
   "display_name": "Python 3.7.0 (conda)",
   "language": "python",
   "name": "python3"
  },
  "language_info": {
   "codemirror_mode": {
    "name": "ipython",
    "version": 3
   },
   "file_extension": ".py",
   "mimetype": "text/x-python",
   "name": "python",
   "nbconvert_exporter": "python",
   "pygments_lexer": "ipython3",
   "version": "3.7.0"
  },
  "orig_nbformat": 4,
  "vscode": {
   "interpreter": {
    "hash": "fc6fa6e48c86001677d15bc9af4f846353042d089527ab27e7c7a4474d3b154b"
   }
  }
 },
 "nbformat": 4,
 "nbformat_minor": 2
}
